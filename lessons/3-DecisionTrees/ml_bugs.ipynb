{
 "cells": [
  {
   "cell_type": "markdown",
   "metadata": {},
   "source": [
    "# Exercise: Calculating Information Gain on a Dataset\n",
    "\n",
    "### Quiz for Maximizing Information Gain\n",
    "\n",
    "For the following quiz, consider the data found in this file, consisting of twenty-four made-up insects measured on their length and color.\n",
    "\n",
    "### Quiz Question\n",
    "Which of the following splitting criteria provides the most information gain for discriminating Mobugs from Lobugs?\n",
    "- Color =Brown\n",
    "- Color = Blue\n",
    "- Color = Green\n",
    "- Lenght < 17.0mm\n",
    "- Length < 20.0mm"
   ]
  },
  {
   "cell_type": "code",
   "execution_count": 3,
   "metadata": {},
   "outputs": [],
   "source": [
    "import numpy as np\n",
    "import pandas as pd"
   ]
  },
  {
   "cell_type": "code",
   "execution_count": 4,
   "metadata": {},
   "outputs": [
    {
     "name": "stdout",
     "output_type": "stream",
     "text": [
      "[INFO] The shape of 'data' is (24, 3) \n",
      "   Species  Color  Length (mm)\n",
      "0    Mobug  Brown         11.6\n",
      "1    Mobug   Blue         16.3\n",
      "2    Lobug   Blue         15.1\n",
      "3    Lobug  Green         23.7\n",
      "4    Lobug   Blue         18.4\n",
      "5    Lobug  Brown         17.1\n",
      "6    Mobug  Brown         15.7\n",
      "7    Lobug  Green         18.6\n",
      "8    Lobug   Blue         22.9\n",
      "9    Lobug   Blue         21.0\n",
      "10   Lobug   Blue         20.5\n",
      "11   Mobug  Green         21.2\n",
      "12   Mobug  Brown         13.8\n",
      "13   Lobug   Blue         14.5\n",
      "14   Lobug  Green         24.8\n",
      "15   Mobug  Brown         18.2\n",
      "16   Lobug  Green         17.9\n",
      "17   Lobug  Green         22.7\n",
      "18   Mobug  Green         19.9\n",
      "19   Mobug   Blue         14.6\n",
      "20   Mobug   Blue         19.2\n",
      "21   Lobug  Brown         14.1\n",
      "22   Lobug  Green         18.8\n",
      "23   Mobug   Blue         13.1\n"
     ]
    }
   ],
   "source": [
    "# Load the data\n",
    "data = pd.read_csv(\"ml-bugs.csv\")\n",
    "\n",
    "print(f\"[INFO] The shape of \\'data\\' is {data.shape} \")\n",
    "print(data.head(data.shape[0]))\n",
    "\n",
    "# Select all rows of 'data' excluding the last column \n",
    "#X = data[:,:-1]\n",
    "# Assign the last column of 'data' to 'y' \n",
    "#y = data[:,-1]"
   ]
  },
  {
   "cell_type": "code",
   "execution_count": 9,
   "metadata": {},
   "outputs": [],
   "source": [
    "def two_group_ent(first, tot):\n",
    "    \"\"\"\n",
    "    Computes the entropy of a group containing 2 sets.\n",
    "    \n",
    "    Parameters:\n",
    "    first (int): The size of the first set (this is 'n')\n",
    "    tot   (int): The total size of the group (this 'n' + 'p')\n",
    "    \n",
    "    The typical formula is: - [(m/m+n)Entropy_Set1] - [(n/m+n)Entropy_Set2] \n",
    "    \"\"\"\n",
    "    m = first\n",
    "    n = tot-first\n",
    "    #return - ( (first/tot)     * np.log2(first/tot) +\n",
    "    #           (tot-first)/tot * np.log2((tot-first)/tot) )\n",
    "    return - ( (m/(m+n)) * np.log2(m/(m+n)) +\n",
    "               (n/(m+n)) * np.log2(n/(m+n)) )\n"
   ]
  },
  {
   "cell_type": "code",
   "execution_count": 10,
   "metadata": {},
   "outputs": [
    {
     "name": "stdout",
     "output_type": "stream",
     "text": [
      "[INFO] The total entropy of the parent species is: 0.9798687566511528\n"
     ]
    }
   ],
   "source": [
    "tot_ent = two_group_ent(10, 24)\n",
    "print(f\"[INFO] The total entropy of the parent species is: {tot_ent}\")"
   ]
  },
  {
   "cell_type": "code",
   "execution_count": 18,
   "metadata": {},
   "outputs": [
    {
     "name": "stdout",
     "output_type": "stream",
     "text": [
      "They are 9 lengths which are < 17.0mm\n"
     ]
    }
   ],
   "source": [
    "# Count the number of lengths < 17.0mm and < 20.0mm\n",
    "g17 = data['Length (mm)'] < 17.0\n",
    "print(f\"They are {g17.sum()} lengths which are < 17.0mm\")\n",
    "\n",
    "# l20 = data['Length (mm)'] < 20.0\n",
    "# print(f\"They are {l20.sum()} lengths which are < 20.0mm\")"
   ]
  },
  {
   "cell_type": "code",
   "execution_count": null,
   "metadata": {},
   "outputs": [],
   "source": []
  },
  {
   "cell_type": "code",
   "execution_count": 20,
   "metadata": {},
   "outputs": [
    {
     "data": {
      "text/plain": [
       "0.11260735516748976"
      ]
     },
     "execution_count": 20,
     "metadata": {},
     "output_type": "execute_result"
    }
   ],
   "source": [
    "# Entropy of the group g17\n",
    "\n",
    "g17_ent =  9/24 * two_group_ent(  6,9) + \\\n",
    "          15/24 * two_group_ent(11,15)\n",
    "                           \n",
    "\n",
    "answer = tot_ent - g17_ent \n",
    "\n",
    "# Nicely done! Did you get an information gain of 0.1126? \n",
    "# Here was how I calculated the solution:\n",
    "answer"
   ]
  },
  {
   "cell_type": "code",
   "execution_count": null,
   "metadata": {},
   "outputs": [],
   "source": []
  }
 ],
 "metadata": {
  "kernelspec": {
   "display_name": ".venv",
   "language": "python",
   "name": "python3"
  },
  "language_info": {
   "codemirror_mode": {
    "name": "ipython",
    "version": 3
   },
   "file_extension": ".py",
   "mimetype": "text/x-python",
   "name": "python",
   "nbconvert_exporter": "python",
   "pygments_lexer": "ipython3",
   "version": "3.10.10"
  },
  "orig_nbformat": 4
 },
 "nbformat": 4,
 "nbformat_minor": 2
}
