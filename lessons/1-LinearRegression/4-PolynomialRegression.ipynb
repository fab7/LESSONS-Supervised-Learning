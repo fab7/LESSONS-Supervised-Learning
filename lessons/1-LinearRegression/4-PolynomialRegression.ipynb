{
 "cells": [
  {
   "cell_type": "markdown",
   "metadata": {},
   "source": [
    "# Exercise: Polynomial Regression\n",
    "\n",
    "Get some practice implementing polynomial regression in this exercise. In data.csv, you can see data generated for one predictor feature ('Var_X') and one outcome feature ('Var_Y'), following a non-linear trend. Use sklearn's PolynomialFeatures class to extend the predictor feature column into multiple columns with polynomial features. Play around with different degrees of polynomial and the Test Run button to see what fits best: when you think you have the best-fitting degree, press the Submit button to check your work!\n",
    "Perform the following steps below:\n",
    "\n",
    "1. Load in the data\n",
    "\n",
    "    The data is in the file called 'data.csv'. Note that this data has a header line.\n",
    "    Make sure that you've split out the data into the predictor feature in X and outcome feature in y.\n",
    "    For X, make sure it is in a 2-d array of 20 rows by 1 column. You might need to use NumPy's reshape function to accomplish this.\n",
    "\n",
    "2. Create polynomial features\n",
    "\n",
    "    Create an instance of sklearn's PolynomialFeatures class and assign it to the variable poly_feat. Pay attention to how to set the degree of features, since that will be how the exercise is evaluated.\n",
    "    Create the polynomial features by using the PolynomialFeatures object's .fit_transform() method. The \"fit\" side of the method considers how many features are needed in the output, and the \"transform\" side applies those considerations to the data provided to the method as an argument. Assign the new feature matrix to the X_poly variable.\n",
    "\n",
    "3. Build a polynomial regression model\n",
    "\n",
    "    Create a polynomial regression model by combining sklearn's LinearRegression class with the polynomial features. Assign the fit model to poly_model."
   ]
  },
  {
   "cell_type": "code",
   "execution_count": 20,
   "metadata": {},
   "outputs": [],
   "source": [
    "# Add import statements\n",
    "import numpy as np\n",
    "import pandas as pd\n",
    "from sklearn.linear_model import LinearRegression\n",
    "from sklearn.preprocessing import PolynomialFeatures"
   ]
  },
  {
   "cell_type": "code",
   "execution_count": 21,
   "metadata": {},
   "outputs": [
    {
     "name": "stdout",
     "output_type": "stream",
     "text": [
      "[INFO] Train_dat has a shape of: (20, 2) \n",
      "\n",
      "     Var_X    Var_Y\n",
      "0 -0.33532  6.66854\n",
      "1  0.02160  3.86398\n",
      "2 -1.19438  5.16161\n",
      "3 -0.65046  8.43823\n",
      "4 -0.28001  5.57201\n"
     ]
    }
   ],
   "source": [
    "# Load the data\n",
    "train_data = pd.read_csv('data_4.csv')\n",
    "print(f\"[INFO] Train_dat has a shape of: {train_data.shape} \\n\")\n",
    "print(train_data.head())\n",
    "\n",
    "# Assign the data to predictor and outcome variables\n",
    "# Warning: For X, make sure it is in a 2-d array of 20 rows by 1 column by using the `reshape` function.\n",
    "#  he `reshape`` is a function from the NumPy library that is used to change the shape of an array.\n",
    "#  In this case, train_data['Var_X'].values returns a 1-dimensional array, \n",
    "#   and reshape(-1, 1) is used to reshape it into a 2-dimensional array with 'r' rows and 1 column.\n",
    "#  The -1 in the reshape function is a placeholder that tells NumPy to automatically \n",
    "#   determine the number of rows based on the size of the original array. The 1 specifies\n",
    "#   the number of columns.\n",
    "#  So, by using reshape(-1, 1), we are transforming the 1-dimensional array \n",
    "#  train_data['Var_X'].values into a 2-dimensional array X with 'r' rows and 1 column, \n",
    "#  which is the required format for the predictor feature in polynomial regression. \n",
    "X = train_data['Var_X'].values.reshape(-1, 1)\n",
    "\n",
    "y = train_data['Var_Y'].values\n",
    "\n"
   ]
  },
  {
   "cell_type": "code",
   "execution_count": 22,
   "metadata": {},
   "outputs": [],
   "source": [
    "# Create polynomial features\n",
    "# Create a PolynomialFeatures object, then fit and transform the predictor feature\n",
    "poly_feat = PolynomialFeatures(degree = 4)\n",
    "X_poly = poly_feat.fit_transform(X)"
   ]
  },
  {
   "cell_type": "code",
   "execution_count": 23,
   "metadata": {},
   "outputs": [
    {
     "name": "stdout",
     "output_type": "stream",
     "text": [
      "Coefficients: [ 3.37563501 -6.28126025 -2.3787942   0.55307182  0.22699807]\n",
      "Intercept: 0.0\n"
     ]
    }
   ],
   "source": [
    "# Make and fit the polynomial regression model\n",
    "# Create a LinearRegression object and fit it to the polynomial predictor features\n",
    "poly_model = LinearRegression(fit_intercept = False).fit(X_poly, y)\n",
    "\n",
    "print(f\"Coefficients: {poly_model.coef_}\")\n",
    "print(f\"Intercept: {poly_model.intercept_}\")"
   ]
  },
  {
   "cell_type": "code",
   "execution_count": null,
   "metadata": {},
   "outputs": [],
   "source": []
  }
 ],
 "metadata": {
  "kernelspec": {
   "display_name": "Python 3",
   "language": "python",
   "name": "python3"
  },
  "language_info": {
   "codemirror_mode": {
    "name": "ipython",
    "version": 3
   },
   "file_extension": ".py",
   "mimetype": "text/x-python",
   "name": "python",
   "nbconvert_exporter": "python",
   "pygments_lexer": "ipython3",
   "version": "3.10.10"
  }
 },
 "nbformat": 4,
 "nbformat_minor": 2
}
